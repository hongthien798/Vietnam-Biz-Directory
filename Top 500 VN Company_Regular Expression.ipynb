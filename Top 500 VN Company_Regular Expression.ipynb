{
 "cells": [
  {
   "cell_type": "code",
   "execution_count": null,
   "id": "52bd8897",
   "metadata": {},
   "outputs": [],
   "source": [
    "#WEB SCRAPE USING REGULAR EXPRESSION\n",
    "\n",
    "from urllib.request import urlopen\n",
    "import re"
   ]
  },
  {
   "cell_type": "code",
   "execution_count": null,
   "id": "b3c63b5a",
   "metadata": {
    "scrolled": true
   },
   "outputs": [],
   "source": [
    "url = \"https://vnr500.com.vn/Charts/Index?chartId=1\"\n",
    "page = urlopen(url)\n",
    "html_byte = page.read()\n",
    "html = html_byte.decode(\"utf-8\")"
   ]
  },
  {
   "cell_type": "code",
   "execution_count": null,
   "id": "d800c9b3",
   "metadata": {},
   "outputs": [],
   "source": [
    "#INDUSTRY LIST\n",
    "\n",
    "industry = []\n",
    "industry_pattern = \"nghe/.*?-Post\"\n",
    "industry_entry = re.findall(industry_pattern, html, re.IGNORECASE)\n",
    "for entry in industry_entry:\n",
    "    entry = entry.replace(\"-\",\" \")\n",
    "    entry = entry.replace(\"nghe/\",\"\")\n",
    "    entry = entry.replace(\"Post\",\"\")\n",
    "    industry.append(entry)"
   ]
  },
  {
   "cell_type": "code",
   "execution_count": null,
   "id": "5250710b",
   "metadata": {},
   "outputs": [],
   "source": [
    "#CEO LIST\n",
    "\n",
    "CEO_list_1 = []\n",
    "CEO_count = 0 \n",
    "CEO_pattern = \"profile.*</a\"\n",
    "CEO_entry = re.findall(CEO_pattern, html, re.IGNORECASE)\n",
    "CEO_list = []\n",
    "for entry in CEO_entry:\n",
    "    new_pattern = \">.*?<\"\n",
    "    new_entry = re.findall(new_pattern,entry,re.IGNORECASE)\n",
    "    CEO_list_1.append(new_entry)\n",
    "for entry1 in CEO_list_1:\n",
    "    entry1[0] = entry1[0].replace(\">\",\"\")\n",
    "    entry1[0] = entry1[0].replace(\"<\",\"\")\n",
    "    CEO_list.append(entry1[0])"
   ]
  },
  {
   "cell_type": "code",
   "execution_count": null,
   "id": "47e7da07",
   "metadata": {},
   "outputs": [],
   "source": [
    "#COMPANY NAME LIST\n",
    "\n",
    "company_list = []\n",
    "company_count = 0\n",
    "company_name_pattern = \"nghiep.*-Chart\"\n",
    "company_entry = re.findall(company_name_pattern,html, re.IGNORECASE)\n",
    "for entry in company_entry:\n",
    "    entry = re.sub(\"nghiep/\", \"\", entry)\n",
    "    entry = re.sub(\"-\", \" \", entry)\n",
    "    entry = re.sub(\"Chart\", \"\", entry)\n",
    "    if entry not in company_list and company_count <= 499:\n",
    "        company_list.append(entry)\n",
    "        company_count += 1\n"
   ]
  },
  {
   "cell_type": "code",
   "execution_count": null,
   "id": "5eec6e67",
   "metadata": {},
   "outputs": [],
   "source": [
    "#RANKING, TAX CODE, TICKER, HQ ADDRESS, PHONE, TAX, EMAIL, WEBSITE, CAPITAL, & ESTABLISHMENT YEAR FROM INDIVIDUAL COMPANY PROFILES\n",
    "\n",
    "company_list2 = []\n",
    "company_count2 = 0\n",
    "company_name_pattern2 = \"nghiep/.*.html\"\n",
    "company_entry2 = re.findall(company_name_pattern2,html, re.IGNORECASE)\n",
    "\n",
    "for entry in company_entry2:\n",
    "    if entry not in company_list2 and company_count2 <= 499:\n",
    "        company_list2.append(entry)\n",
    "        company_count2 += 1\n",
    "\n",
    "ranking = []\n",
    "tax_code = []\n",
    "ticker = []\n",
    "hq_address = []\n",
    "phone = []\n",
    "fax = []\n",
    "email = []\n",
    "website = []\n",
    "capital = []\n",
    "establish = []\n",
    "\n",
    "for entry in company_list2:\n",
    "    link_pattern = \"https://vnr500.com.vn/Thong-tin-doanh-\" + entry\n",
    "    try:\n",
    "        profile = urlopen(link_pattern)\n",
    "        p_html = profile.read()\n",
    "        profile_html = p_html.decode(\"utf-8\")\n",
    "    except UnicodeEncodeError:\n",
    "        pass\n",
    "    clean_list = []\n",
    "    info_pattern = \"<td>(?s).*?</td>\"\n",
    "    info_entry = re.findall(info_pattern, profile_html, re.IGNORECASE)\n",
    "    for entry in info_entry:\n",
    "        clean_list.append(entry)\n",
    "    ranking.append(clean_list[0])\n",
    "    tax_code.append(clean_list[1])\n",
    "    ticker.append(clean_list[2])\n",
    "    hq_address.append(clean_list[3])\n",
    "    phone.append(clean_list[4])\n",
    "    fax.append(clean_list[5])\n",
    "    email.append(clean_list[6])\n",
    "    web_pattern = \"<td><a href=.*?>\"\n",
    "    web_entry = re.findall(web_pattern, profile_html)\n",
    "    website.append(web_entry[0])\n",
    "    cap_count = 0\n",
    "    cap_pattern = '''class=\"ct_box_content_2\">(?s).*?</div>'''\n",
    "    cap_entry = re.findall(cap_pattern, profile_html, re.IGNORECASE)\n",
    "    for entry in cap_entry:\n",
    "       if cap_count == 0:\n",
    "            capital.append(entry)\n",
    "            cap_count += 1\n",
    "    establish.append(clean_list[10])\n",
    "    "
   ]
  },
  {
   "cell_type": "code",
   "execution_count": null,
   "id": "a40205fb",
   "metadata": {},
   "outputs": [],
   "source": [
    "#CLEAN THE ACQUIRED LIST\n",
    "\n",
    "def clean_entry(list):\n",
    "    cleaned_list = []\n",
    "    for entry in list:\n",
    "        entry = entry.replace('<td>','')\n",
    "        entry = entry.replace('\\n','')\n",
    "        entry = entry.replace('</td>','')\n",
    "        entry = entry.replace('''class=\"ct_box_content_2\">''',\"\")\n",
    "        entry = entry.replace(\"</div>\",\"\")\n",
    "        entry = entry.replace(\"VNĐ\",\"\")\n",
    "        entry = entry.replace('''class=\"ct_box_content_2\">''',\"\")\n",
    "        entry = entry.replace(\"</div>\",\"\")\n",
    "        entry = entry.replace(\">\",\"\")\n",
    "        entry = entry.replace(\"<a href=\",\"\")\n",
    "        entry = entry.replace(\"Chưa ni&#234;m yết\",'Unlisted')\n",
    "        entry = entry.strip()\n",
    "        cleaned_list.append(entry)\n",
    "    for i, entry in enumerate(cleaned_list):\n",
    "        list[i] = entry\n",
    "    \n",
    "   "
   ]
  },
  {
   "cell_type": "code",
   "execution_count": null,
   "id": "d6d038d3",
   "metadata": {
    "scrolled": true
   },
   "outputs": [],
   "source": [
    "clean_entry(ranking)\n",
    "clean_entry(tax_code)\n",
    "clean_entry(ticker)\n",
    "clean_entry(hq_address)\n",
    "clean_entry(phone)\n",
    "clean_entry(fax)\n",
    "clean_entry(email)\n",
    "clean_entry(website)\n",
    "clean_entry(capital)\n",
    "clean_entry(establish)"
   ]
  },
  {
   "cell_type": "code",
   "execution_count": null,
   "id": "eea43823",
   "metadata": {
    "scrolled": true
   },
   "outputs": [],
   "source": [
    "#EXPORT TO FILE\n",
    "\n",
    "import pandas as pd\n",
    "\n",
    "dict = {\"Company Name\":company_list, \"Website\" : website, \"Industry\" : industry, \"CEO\":CEO_list, \"Ranking\": ranking, \"Tax Code\": tax_code, \"Ticker\": ticker, \"HQ Address\": hq_address, \"Phone\": phone, \"Fax\": fax, \"Email\" : email, \"Capital\" : capital, \"Established\" : establish}\n",
    "\n",
    "df = pd.DataFrame(dict)\n",
    "df.to_csv('top500.csv')\n"
   ]
  }
 ],
 "metadata": {
  "kernelspec": {
   "display_name": "Python 3 (ipykernel)",
   "language": "python",
   "name": "python3"
  },
  "language_info": {
   "codemirror_mode": {
    "name": "ipython",
    "version": 3
   },
   "file_extension": ".py",
   "mimetype": "text/x-python",
   "name": "python",
   "nbconvert_exporter": "python",
   "pygments_lexer": "ipython3",
   "version": "3.9.12"
  }
 },
 "nbformat": 4,
 "nbformat_minor": 5
}
